{
  "cells": [
    {
      "cell_type": "markdown",
      "metadata": {
        "id": "ztoxm4CuGVCH"
      },
      "source": [
        "\n",
        "\n",
        "\n",
        "\n",
        "\n",
        "\n",
        "\n",
        "\n",
        "\n",
        "\n",
        "\n",
        "\n",
        "\n",
        "\n",
        "\n",
        "\n",
        "\n",
        "\n",
        "\n",
        "\n",
        "\n",
        "\n",
        "\n",
        "\n",
        "\n",
        "\n",
        "\n",
        "\n",
        "\n",
        "\n",
        "\n",
        "\n",
        "\n",
        "\n",
        "\n",
        "\n",
        "\n",
        "\n",
        "\n",
        "\n",
        "\n",
        "\n",
        "\n",
        "\n",
        "\n",
        "\n",
        "\n",
        "\n",
        "\n",
        "\n",
        "\n",
        "\n",
        "\n",
        "\n",
        "\n",
        "\n",
        "\n",
        "\n",
        "\n",
        "\n",
        "\n",
        "\n",
        "\n",
        "\n",
        "\n",
        "\n",
        "\n",
        "\n",
        "\n",
        "\n",
        "\n",
        "\n",
        "\n",
        "\n",
        "\n",
        "\n",
        "\n",
        "\n",
        "\n",
        "\n",
        "\n",
        "\n",
        "\n",
        "\n",
        "\n",
        "\n",
        "\n",
        "\n",
        "# 1 . Import Dependencies and Create folders project"
      ]
    },
    {
      "cell_type": "code",
      "execution_count": null,
      "metadata": {
        "colab": {
          "base_uri": "https://localhost:8080/"
        },
        "id": "j5tVpieWcpVT",
        "outputId": "48be6bf1-6450-4909-9885-06fea30f729e"
      },
      "outputs": [
        {
          "output_type": "stream",
          "name": "stdout",
          "text": [
            "Drive already mounted at /content/drive; to attempt to forcibly remount, call drive.mount(\"/content/drive\", force_remount=True).\n"
          ]
        }
      ],
      "source": [
        "from google.colab import drive\n",
        "drive.mount('/content/drive')"
      ]
    },
    {
      "cell_type": "code",
      "source": [
        "!wget -q https://git.io/JGc31 -O ucf101_top5.tar.gz\n",
        "!tar xf ucf101_top5.tar.gz\n"
      ],
      "metadata": {
        "id": "29gG_wTmkmgA"
      },
      "execution_count": null,
      "outputs": []
    },
    {
      "cell_type": "code",
      "execution_count": null,
      "metadata": {
        "id": "QTI-V-4MCRcd"
      },
      "outputs": [],
      "source": [
        "import cv2\n",
        "import os\n",
        "import random\n",
        "import numpy as np\n",
        "import matplotlib.pyplot as plt\n",
        "# Import uuid library to generate unique image names\n",
        "import uuid"
      ]
    },
    {
      "cell_type": "code",
      "execution_count": null,
      "metadata": {
        "id": "x-ZqgykGCifF"
      },
      "outputs": [],
      "source": [
        "# Import tensorflow dependecies -  Model class API\n",
        "from tensorflow.keras import Model\n",
        "from tensorflow.keras.layers import Layer,Dense,Conv2D,MaxPooling2D,Input,Flatten,Dropout\n",
        "from tensorflow.keras import metrics\n",
        "from tensorflow.keras.losses import Loss\n",
        "from tensorflow.keras.metrics import Precision, Recall\n",
        "import tensorflow.keras.backend as K\n",
        "import tensorflow as tf\n",
        "# Avoid OOM erroes by settings GPu menorery\n",
        "# Avoid OOM errors by setting GPU Memory Consumption Growth"
      ]
    },
    {
      "cell_type": "code",
      "execution_count": null,
      "metadata": {
        "id": "owFYJzYlc_DG"
      },
      "outputs": [],
      "source": [
        "!unrar x \"drive/MyDrive/data.rar\""
      ]
    },
    {
      "cell_type": "code",
      "execution_count": null,
      "metadata": {
        "id": "gnIETGqLGBON"
      },
      "outputs": [],
      "source": [
        "# Setup path\n",
        "POS_PATH = os.path.join('data','positive')\n",
        "NEG_PATH = os.path.join('data','negative')\n",
        "ANCHOR_PATH = os.path.join('data','anchor')"
      ]
    },
    {
      "cell_type": "markdown",
      "metadata": {
        "id": "7EfwfwR-I0yy"
      },
      "source": [
        "### 2 . Collect Positives and Anchors"
      ]
    },
    {
      "cell_type": "markdown",
      "metadata": {
        "id": "o5yRiAnTKdZq"
      },
      "source": [
        "## 2.1 Untar Labelled faces in te wild Dataset"
      ]
    },
    {
      "cell_type": "code",
      "execution_count": null,
      "metadata": {
        "id": "kf6fVZFwIMVY"
      },
      "outputs": [],
      "source": [
        "# http://vis-www.cs.umass.edu/lfw/\n",
        "# Uncompress Tar GZ Labelled Faces in the Wild Dataset\n",
        "!tar -xf lfw.tgz"
      ]
    },
    {
      "cell_type": "code",
      "execution_count": null,
      "metadata": {
        "id": "rbJ4SU7cNNT_"
      },
      "outputs": [],
      "source": [
        "for diretory in os.listdir('lfw'):\n",
        "    for files in os.listdir(os.path.join('lfw',diretory)):\n",
        "        EX_PATH = os.path.join('lfw',diretory,files)\n",
        "        NEW_PATH = os.path.join(NEG_PATH,files)\n",
        "        os.replace(EX_PATH,NEW_PATH)"
      ]
    },
    {
      "cell_type": "markdown",
      "metadata": {
        "id": "wEr0aoMFcVWQ"
      },
      "source": [
        "# 3.Load and Preprocess image"
      ]
    },
    {
      "cell_type": "markdown",
      "metadata": {
        "id": "m3QH-xr2cVWR"
      },
      "source": [
        "## 3.1 Get image Directories"
      ]
    },
    {
      "cell_type": "code",
      "execution_count": null,
      "metadata": {
        "colab": {
          "base_uri": "https://localhost:8080/"
        },
        "id": "Qvc9GzYYcVWS",
        "outputId": "3b980bcf-0819-45fe-9c06-fc27093b3ded"
      },
      "outputs": [
        {
          "output_type": "stream",
          "name": "stdout",
          "text": [
            "10000\n",
            "10000\n",
            "10000\n"
          ]
        }
      ],
      "source": [
        "anchor = tf.data.Dataset.list_files(ANCHOR_PATH+'/*.jpg').take(10000)\n",
        "positive = tf.data.Dataset.list_files(POS_PATH+'/*.jpg').take(10000)\n",
        "negative = tf.data.Dataset.list_files(NEG_PATH+'/*.jpg').take(10000)\n",
        "print(len(anchor))\n",
        "print(len(positive))\n",
        "print(len(negative))"
      ]
    },
    {
      "cell_type": "markdown",
      "metadata": {
        "id": "NHITR52ecVWU"
      },
      "source": [
        "## 3.2 Preprocessing - Scale and Resize"
      ]
    },
    {
      "cell_type": "code",
      "execution_count": null,
      "metadata": {
        "id": "Aq__200fcVWU"
      },
      "outputs": [],
      "source": [
        "def proprocess(file_path):\n",
        "    byte_img = tf.io.read_file(file_path)\n",
        "    img = tf.io.decode_jpeg(byte_img)\n",
        "    img = tf.image.resize(img,(100,100))\n",
        "    img = img/255.0\n",
        "    return img"
      ]
    },
    {
      "cell_type": "markdown",
      "metadata": {
        "id": "sor_vJpNcVWV"
      },
      "source": [
        "## 3.3 Create Labelled Dataset"
      ]
    },
    {
      "cell_type": "code",
      "execution_count": null,
      "metadata": {
        "colab": {
          "base_uri": "https://localhost:8080/"
        },
        "id": "bE5Y-lqUcVWW",
        "outputId": "32f88491-c807-4021-84db-b7e4f1ad0f2a"
      },
      "outputs": [
        {
          "output_type": "stream",
          "name": "stdout",
          "text": [
            "20000\n"
          ]
        }
      ],
      "source": [
        "label_pos = tf.data.Dataset.from_tensor_slices(tf.ones(len(anchor)))\n",
        "label_neg = tf.data.Dataset.from_tensor_slices(tf.zeros(len(anchor)))\n",
        "positives = tf.data.Dataset.zip((anchor,positive,label_pos))\n",
        "negatives = tf.data.Dataset.zip((anchor,negative,label_neg))\n",
        "data = positives.concatenate(negatives)\n",
        "print(len(data))\n",
        "samples = data.as_numpy_iterator().next()"
      ]
    },
    {
      "cell_type": "code",
      "source": [
        "samples"
      ],
      "metadata": {
        "colab": {
          "base_uri": "https://localhost:8080/"
        },
        "id": "wNmC-M2ACn4n",
        "outputId": "38e7ff66-39cd-482e-a27e-b4b02ac32196"
      },
      "execution_count": null,
      "outputs": [
        {
          "output_type": "execute_result",
          "data": {
            "text/plain": [
              "(b'data/anchor/96881cee-8e03-11ec-9f67-d05f6431b1ab.jpg',\n",
              " b'data/positive/a15b169f-8e05-11ec-b2da-d05f6431b1ab.jpg',\n",
              " 1.0)"
            ]
          },
          "metadata": {},
          "execution_count": 32
        }
      ]
    },
    {
      "cell_type": "markdown",
      "metadata": {
        "id": "YRCPG8SNcVWX"
      },
      "source": [
        "## 3.4 Buld Train and Test validation"
      ]
    },
    {
      "cell_type": "code",
      "execution_count": null,
      "metadata": {
        "colab": {
          "base_uri": "https://localhost:8080/",
          "height": 320
        },
        "id": "umn9PcQ5cVWX",
        "outputId": "718f0569-2a04-4368-960a-45193a909f18"
      },
      "outputs": [
        {
          "output_type": "stream",
          "name": "stdout",
          "text": [
            "b'data/anchor/96881cee-8e03-11ec-9f67-d05f6431b1ab.jpg' b'data/positive/a15b169f-8e05-11ec-b2da-d05f6431b1ab.jpg' 1.0\n",
            "(100, 100, 3)\n",
            "1.0\n"
          ]
        },
        {
          "output_type": "display_data",
          "data": {
            "text/plain": [
              "<Figure size 432x288 with 1 Axes>"
            ],
            "image/png": "[encoded data removed]"
          },
          "metadata": {
            "needs_background": "light"
          }
        }
      ],
      "source": [
        "def prepprocess_twin(input_img,validation_img,label):\n",
        "    return(proprocess(input_img),proprocess(validation_img),label)\n",
        "res = prepprocess_twin(*samples)\n",
        "print(*samples)\n",
        "plt.imshow(res[1])\n",
        "print(res[1].shape)\n",
        "print(res[2])"
      ]
    },
    {
      "cell_type": "code",
      "execution_count": null,
      "metadata": {
        "id": "SYTufmmjcVWY"
      },
      "outputs": [],
      "source": [
        "# Builed dataloader pipeline\n",
        "datas = data.map(prepprocess_twin).cache().shuffle(buffer_size=50000)\n",
        "val_size = int(len(datas) * 0.1)\n",
        "test_size = int(len(datas) * 0.1)\n",
        "train_data = datas.skip(val_size+test_size)\n",
        "train_data = train_data.batch(128).prefetch(buffer_size=tf.data.experimental.AUTOTUNE)\n",
        "\n",
        "\n",
        "valid_data = datas.take(val_size)\n",
        "valid_data = valid_data.batch(128).prefetch(buffer_size=tf.data.experimental.AUTOTUNE)\n",
        "\n",
        "test_data = datas.take(test_size)\n",
        "test_data = test_data.batch(128).prefetch(buffer_size=tf.data.experimental.AUTOTUNE)\n"
      ]
    },
    {
      "cell_type": "markdown",
      "metadata": {
        "id": "dz49LF_KcVWY"
      },
      "source": [
        "# 4.Model"
      ]
    },
    {
      "cell_type": "markdown",
      "metadata": {
        "id": "aVIMu2vhcVWZ"
      },
      "source": [
        "## 4.1 Build Embedding layer"
      ]
    },
    {
      "cell_type": "code",
      "execution_count": null,
      "metadata": {
        "id": "lkgYaJPycVWZ"
      },
      "outputs": [],
      "source": [
        "class layer(tf.keras.layers.Layer):\n",
        "    \n",
        "    def __init__(self,units=None,activation=None):\n",
        "        super(layer,self).__init__()\n",
        "        \n",
        "        self.units = units\n",
        "        self.activation = activation\n",
        "    def build(self,input_shape):\n",
        "        \n",
        "        init_weights = tf.keras.initializers.glorot_normal()\n",
        "        w_val = init_weights(shape=(input_shape[-1],self.units),dtype='float32')\n",
        "        self._weights_ = tf.Variable(w_val,trainable=True)\n",
        "        \n",
        "        init_bias = tf.keras.initializers.Zeros()\n",
        "        b_val = init_bias(shape=(self.units),dtype='float32')\n",
        "        self._bias_ = tf.Variable(b_val,trainable=True)\n",
        "        \n",
        "        super().build(input_shape)\n",
        "    def call(self,x):\n",
        "        \n",
        "        x = tf.linalg.matmul(x,self._weights_)\n",
        "        x = x+self._bias_\n",
        "        return self.activation(x)"
      ]
    },
    {
      "cell_type": "code",
      "execution_count": null,
      "metadata": {
        "id": "KW_3NetwcVWa"
      },
      "outputs": [],
      "source": [
        "class make_embeddings(tf.keras.layers.Layer):\n",
        "    \n",
        "    def __init__(self):\n",
        "        super().__init__()\n",
        "        \n",
        "        self.c1 = Conv2D(filters=64,kernel_size=(10,10),activation='relu')\n",
        "        self.m1 = MaxPooling2D(pool_size=(2,2),padding='same')\n",
        "        self.c2 = Conv2D(filters=128,kernel_size=(7,7),activation='relu')\n",
        "        self.m2 = MaxPooling2D(pool_size=(2,2),padding='same')\n",
        "        self.c3 = Conv2D(filters=128,kernel_size=(4,4),activation='relu')\n",
        "        self.m3 = MaxPooling2D(pool_size=(2,2),padding='same')\n",
        "        self.c4 = Conv2D(filters=256,kernel_size=(4,4),activation='relu')\n",
        "        self.f1 = Flatten()\n",
        "        self.d1 = layer(4096,activation=tf.keras.layers.Lambda(lambda x: 1/(1+tf.math.exp(-x)) ,name='sigmoid'))\n",
        "    def call(self,x):\n",
        "        \n",
        "        x = self.c1(x)\n",
        "        x = self.m1(x)\n",
        "        x = self.c2(x)\n",
        "        x = self.m2(x)\n",
        "        x = self.c3(x)\n",
        "        x = self.m3(x)\n",
        "        x = self.c4(x)\n",
        "        x = self.f1(x)\n",
        "        return (self.d1(x))"
      ]
    },
    {
      "cell_type": "markdown",
      "metadata": {
        "id": "r_GYKY6ccVWb"
      },
      "source": [
        "## 4.2 Build Distance layer"
      ]
    },
    {
      "cell_type": "code",
      "execution_count": null,
      "metadata": {
        "id": "l4jM5AcdcVWb"
      },
      "outputs": [],
      "source": [
        "class euclidean_distance(tf.keras.layers.Layer):\n",
        "    def __init__(self):\n",
        "        super().__init__()\n",
        "    \n",
        "    def call(self,input_embedding,validation_embedding):\n",
        "        return tf.math.abs(input_embedding - validation_embedding)"
      ]
    },
    {
      "cell_type": "markdown",
      "metadata": {
        "id": "Y-Dw-zQscVWb"
      },
      "source": [
        "## 4.3 Make Siamese Model"
      ]
    },
    {
      "cell_type": "code",
      "source": [
        "def make_siamese_model():\n",
        "  pos = Input(shape=(100,100,3),name='pos')\n",
        "  neg = Input(shape=(100,100,3),name='neg')\n",
        "  make = make_embeddings()\n",
        "  l1  = euclidean_distance()\n",
        "  dense = layer(1,activation=tf.keras.layers.Lambda(lambda x: 1/(1+tf.math.exp(-x)) ,name='sigmoid'))\n",
        "\n",
        "\n",
        "  embedding_pos = make(pos)\n",
        "  embedding_neg = make(neg)\n",
        "  euclidean = l1(embedding_pos,embedding_neg)\n",
        "  x = dense(euclidean)\n",
        "  \n",
        "  return Model(inputs=[pos,neg],outputs=x)"
      ],
      "metadata": {
        "id": "0ONg4ksU3sSB"
      },
      "execution_count": null,
      "outputs": []
    },
    {
      "cell_type": "code",
      "execution_count": null,
      "metadata": {
        "id": "kT5BXy6mcVWc",
        "colab": {
          "base_uri": "https://localhost:8080/"
        },
        "outputId": "a9ebbd84-891c-4c71-8838-d9a0fa9aa45a"
      },
      "outputs": [
        {
          "output_type": "stream",
          "name": "stdout",
          "text": [
            "Model: \"model_1\"\n",
            "__________________________________________________________________________________________________\n",
            " Layer (type)                   Output Shape         Param #     Connected to                     \n",
            "==================================================================================================\n",
            " pos (InputLayer)               [(None, 100, 100, 3  0           []                               \n",
            "                                )]                                                                \n",
            "                                                                                                  \n",
            " neg (InputLayer)               [(None, 100, 100, 3  0           []                               \n",
            "                                )]                                                                \n",
            "                                                                                                  \n",
            " make_embeddings_1 (make_embedd  (None, 4096)        38960448    ['pos[0][0]',                    \n",
            " ings)                                                            'neg[0][0]']                    \n",
            "                                                                                                  \n",
            " euclidean_distance_1 (euclidea  (None, 4096)        0           ['make_embeddings_1[0][0]',      \n",
            " n_distance)                                                      'make_embeddings_1[1][0]']      \n",
            "                                                                                                  \n",
            " layer_3 (layer)                (None, 1)            4097        ['euclidean_distance_1[0][0]']   \n",
            "                                                                                                  \n",
            "==================================================================================================\n",
            "Total params: 38,964,545\n",
            "Trainable params: 38,964,545\n",
            "Non-trainable params: 0\n",
            "__________________________________________________________________________________________________\n"
          ]
        }
      ],
      "source": [
        "model = make_siamese_model()\n",
        "model.summary()"
      ]
    },
    {
      "cell_type": "markdown",
      "metadata": {
        "id": "_W5DvEgqfzFB"
      },
      "source": [
        "# 5.Training"
      ]
    },
    {
      "cell_type": "markdown",
      "metadata": {
        "id": "5PNoMJ1Of2jF"
      },
      "source": [
        "## 5.1 Setup Loss and Optimizer and Accuracy"
      ]
    },
    {
      "cell_type": "code",
      "execution_count": null,
      "metadata": {
        "id": "nIsRBuBgTwwZ"
      },
      "outputs": [],
      "source": [
        "contrastive_loss = tf.keras.losses.BinaryCrossentropy()\n"
      ]
    },
    {
      "cell_type": "code",
      "execution_count": null,
      "metadata": {
        "id": "ebwFf_2aLdGc"
      },
      "outputs": [],
      "source": [
        "optimizer = tf.keras.optimizers.Adam(learning_rate=1e-5, beta_1=0.95,beta_2=0.999, epsilon=1e-05)\n",
        "train_loss = tf.keras.metrics.Mean(name='train_loss')\n",
        "train_accuracy = tf.keras.metrics.BinaryAccuracy(name='train_accuracy')\n",
        "\n",
        "test_loss = tf.keras.metrics.Mean(name='test_loss')\n",
        "test_accuracy = tf.keras.metrics.BinaryAccuracy(name='test_accuracy')"
      ]
    },
    {
      "cell_type": "code",
      "execution_count": null,
      "metadata": {
        "id": "xlDs7fsWajv6"
      },
      "outputs": [],
      "source": [
        "import datetime\n",
        "current_time = datetime.datetime.now().strftime(\"%Y%m%d-%H%M%S\")\n",
        "train_log_dir = 'logs/gradient_tape/' + current_time + '/train'\n",
        "test_log_dir = 'logs/gradient_tape/' + current_time + '/test'\n",
        "train_summary_writer = tf.summary.create_file_writer(train_log_dir)\n",
        "test_summary_writer = tf.summary.create_file_writer(test_log_dir)"
      ]
    },
    {
      "cell_type": "markdown",
      "metadata": {
        "id": "KHjNuRcyj4Gh"
      },
      "source": [
        "## 5.3 Build Train Step Function"
      ]
    },
    {
      "cell_type": "code",
      "execution_count": null,
      "metadata": {
        "id": "746yqYUl9GYL"
      },
      "outputs": [],
      "source": [
        "device = '/gpu:0' if tf.config.list_physical_devices('GPU') else '/cpu:0'\n",
        "@tf.function\n",
        "def train_step(images, labels):\n",
        "  with tf.GradientTape() as tape:\n",
        "    # training=True is only needed if there are layers with different\n",
        "    # behavior during training versus inference (e.g. Dropout).\n",
        "    predictions = model(images, training=True)\n",
        "    loss = contrastive_loss(labels, predictions)\n",
        "  gradients = tape.gradient(loss, model.trainable_variables)\n",
        "  optimizer.apply_gradients(zip(gradients, model.trainable_variables))\n",
        "\n",
        "  train_loss(loss)\n",
        "  train_accuracy(labels, predictions)"
      ]
    },
    {
      "cell_type": "code",
      "execution_count": null,
      "metadata": {
        "id": "4vnCNHOMMRiW"
      },
      "outputs": [],
      "source": [
        "@tf.function\n",
        "def test_step(images, labels):\n",
        "  # training=False is only needed if there are layers with different\n",
        "  # behavior during training versus inference (e.g. Dropout).\n",
        "  predictions = model(images, training=False)\n",
        "  t_loss = contrastive_loss(labels, predictions)\n",
        "\n",
        "  test_loss(t_loss)\n",
        "  test_accuracy(labels, predictions)\n"
      ]
    },
    {
      "cell_type": "code",
      "execution_count": null,
      "metadata": {
        "id": "74YvciBNCtRl"
      },
      "outputs": [],
      "source": [
        "checkpoint_dir = 'drive/MyDrive/training_checkpoints'\n",
        "checkpoint_prefix = os.path.join(checkpoint_dir, 'ckpt')\n",
        "checkpoint = tf.train.Checkpoint(opt=optimizer, siamese_model=model)"
      ]
    },
    {
      "cell_type": "markdown",
      "metadata": {
        "id": "ivqUX_5IlMxi"
      },
      "source": [
        "## 5.4 Build Trainning Loop"
      ]
    },
    {
      "cell_type": "code",
      "execution_count": null,
      "metadata": {
        "colab": {
          "base_uri": "https://localhost:8080/",
          "height": 1000
        },
        "id": "3GjtBg2L9PBn",
        "outputId": "3d9b6585-bb82-40f0-a6a3-adb3566eee29"
      },
      "outputs": [
        {
          "metadata": {
            "tags": null
          },
          "name": "stdout",
          "output_type": "stream",
          "text": [
            "Epoch 1, Loss: 0.5769128203392029, Accuracy: 63.849998474121094, Test Loss: 0.3603880703449249, Test Accuracy: 86.5625\n",
            "Epoch 2, Loss: 0.20598408579826355, Accuracy: 97.90625, Test Loss: 0.041546858847141266, Test Accuracy: 99.580078125\n",
            "Epoch 3, Loss: 0.022186577320098877, Accuracy: 99.80000305175781, Test Loss: 0.012103806249797344, Test Accuracy: 99.90234375\n",
            "Epoch 4, Loss: 0.010308090597391129, Accuracy: 99.91875457763672, Test Loss: 0.00651208683848381, Test Accuracy: 100.0\n",
            "Epoch 5, Loss: 0.006462177727371454, Accuracy: 99.9437484741211, Test Loss: 0.005704513285309076, Test Accuracy: 100.0\n",
            "Epoch 6, Loss: 0.005037194583564997, Accuracy: 99.95625305175781, Test Loss: 0.004583423957228661, Test Accuracy: 100.0\n",
            "Epoch 7, Loss: 0.004451175685971975, Accuracy: 99.9437484741211, Test Loss: 0.007358561735600233, Test Accuracy: 99.70703125\n",
            "Epoch 8, Loss: 0.004836214240640402, Accuracy: 99.94999694824219, Test Loss: 0.0021704435348510742, Test Accuracy: 100.0\n",
            "Epoch 9, Loss: 0.002643549581989646, Accuracy: 99.98750305175781, Test Loss: 0.0017111508641391993, Test Accuracy: 100.0\n",
            "Epoch 10, Loss: 0.001985762733966112, Accuracy: 99.98750305175781, Test Loss: 0.002116115065291524, Test Accuracy: 100.0\n",
            "Epoch 11, Loss: 0.002263176953420043, Accuracy: 99.9749984741211, Test Loss: 0.0019250891637057066, Test Accuracy: 100.0\n",
            "Epoch 12, Loss: 0.0017510519828647375, Accuracy: 99.98750305175781, Test Loss: 0.002345743589103222, Test Accuracy: 100.0\n",
            "Epoch 13, Loss: 0.0012174703879281878, Accuracy: 100.0, Test Loss: 0.0011147527256980538, Test Accuracy: 100.0\n",
            "Epoch 14, Loss: 0.0009598550968803465, Accuracy: 99.99374389648438, Test Loss: 0.001040898379869759, Test Accuracy: 100.0\n",
            "Epoch 15, Loss: 0.0009239588980562985, Accuracy: 100.0, Test Loss: 0.0007873203721828759, Test Accuracy: 100.0\n",
            "Epoch 16, Loss: 0.0012522699544206262, Accuracy: 99.98124694824219, Test Loss: 0.0006085119675844908, Test Accuracy: 100.0\n",
            "Epoch 17, Loss: 0.0009541359031572938, Accuracy: 99.99374389648438, Test Loss: 0.0009514641715213656, Test Accuracy: 100.0\n",
            "Epoch 18, Loss: 0.0006412912043742836, Accuracy: 100.0, Test Loss: 0.0006891628727316856, Test Accuracy: 100.0\n",
            "Epoch 19, Loss: 0.0010917263571172953, Accuracy: 99.98750305175781, Test Loss: 0.0007077421760186553, Test Accuracy: 100.0\n",
            "Epoch 20, Loss: 0.0005110696656629443, Accuracy: 100.0, Test Loss: 0.0004964942345395684, Test Accuracy: 100.0\n",
            "Epoch 21, Loss: 0.00041166547453030944, Accuracy: 100.0, Test Loss: 0.0004893472068943083, Test Accuracy: 100.0\n",
            "Epoch 22, Loss: 0.0003627074183896184, Accuracy: 100.0, Test Loss: 0.00028769680648110807, Test Accuracy: 100.0\n",
            "Epoch 23, Loss: 0.0006807323661632836, Accuracy: 99.99374389648438, Test Loss: 0.0006126805674284697, Test Accuracy: 100.0\n",
            "Epoch 24, Loss: 0.0004227562458254397, Accuracy: 100.0, Test Loss: 0.0003929123340640217, Test Accuracy: 100.0\n",
            "Epoch 25, Loss: 0.0003137293388135731, Accuracy: 100.0, Test Loss: 0.00023695074196439236, Test Accuracy: 100.0\n",
            "Epoch 26, Loss: 0.0002760376373771578, Accuracy: 100.0, Test Loss: 0.00016792847600299865, Test Accuracy: 100.0\n",
            "Epoch 27, Loss: 0.00031318020774051547, Accuracy: 100.0, Test Loss: 0.00038896483602002263, Test Accuracy: 100.0\n",
            "Epoch 28, Loss: 0.00022092026483733207, Accuracy: 100.0, Test Loss: 0.00023299737949855626, Test Accuracy: 100.0\n",
            "Epoch 29, Loss: 0.0001938281493494287, Accuracy: 100.0, Test Loss: 0.0002278316969750449, Test Accuracy: 100.0\n",
            "Epoch 30, Loss: 0.00019413538393564522, Accuracy: 100.0, Test Loss: 0.00010987203859258443, Test Accuracy: 100.0\n",
            "Epoch 31, Loss: 0.00018869779887609184, Accuracy: 100.0, Test Loss: 0.0001854313595686108, Test Accuracy: 100.0\n",
            "Epoch 32, Loss: 0.003842076752334833, Accuracy: 99.92500305175781, Test Loss: 0.006532147526741028, Test Accuracy: 99.921875\n",
            "Epoch 33, Loss: 0.0015966970240697265, Accuracy: 100.0, Test Loss: 0.0008743162616156042, Test Accuracy: 100.0\n",
            "Epoch 34, Loss: 0.0005495073855854571, Accuracy: 100.0, Test Loss: 0.0003761140978895128, Test Accuracy: 100.0\n",
            "Epoch 35, Loss: 0.00041383455391041934, Accuracy: 100.0, Test Loss: 0.00023469376901630312, Test Accuracy: 100.0\n",
            "Epoch 36, Loss: 0.0006447699852287769, Accuracy: 99.99374389648438, Test Loss: 0.0005419985391199589, Test Accuracy: 100.0\n",
            "Epoch 37, Loss: 0.00043942983029410243, Accuracy: 99.99374389648438, Test Loss: 0.00045695051085203886, Test Accuracy: 100.0\n",
            "Epoch 38, Loss: 0.00030172860715538263, Accuracy: 100.0, Test Loss: 0.00030419271206483245, Test Accuracy: 100.0\n",
            "Epoch 39, Loss: 0.00027274180320091546, Accuracy: 100.0, Test Loss: 0.00022409773373510689, Test Accuracy: 100.0\n",
            "Epoch 40, Loss: 0.00022332662774715573, Accuracy: 100.0, Test Loss: 0.00016186512948479503, Test Accuracy: 100.0\n",
            "Epoch 41, Loss: 0.00019138363131787628, Accuracy: 100.0, Test Loss: 0.0002655338030308485, Test Accuracy: 100.0\n",
            "Epoch 42, Loss: 0.00021284933609422296, Accuracy: 100.0, Test Loss: 0.00016927719116210938, Test Accuracy: 100.0\n",
            "Epoch 43, Loss: 0.00016579104703851044, Accuracy: 100.0, Test Loss: 0.00023198797134682536, Test Accuracy: 100.0\n",
            "Epoch 44, Loss: 0.0001637825189391151, Accuracy: 100.0, Test Loss: 0.0002622538013383746, Test Accuracy: 100.0\n",
            "Epoch 45, Loss: 0.00015435414388775826, Accuracy: 100.0, Test Loss: 0.00020681071327999234, Test Accuracy: 100.0\n",
            "Epoch 46, Loss: 0.0001367617805954069, Accuracy: 100.0, Test Loss: 0.00017453487089369446, Test Accuracy: 100.0\n",
            "Epoch 47, Loss: 0.0001518627250334248, Accuracy: 100.0, Test Loss: 0.00015781144611537457, Test Accuracy: 100.0\n",
            "Epoch 48, Loss: 0.00011856246419483796, Accuracy: 100.0, Test Loss: 0.0001473124575568363, Test Accuracy: 100.0\n",
            "Epoch 49, Loss: 0.00012322529801167548, Accuracy: 100.0, Test Loss: 0.00010468730033608153, Test Accuracy: 100.0\n",
            "Epoch 50, Loss: 0.00015310879098251462, Accuracy: 100.0, Test Loss: 0.00012885556498076767, Test Accuracy: 100.0\n",
            "Epoch 51, Loss: 0.00012512158718891442, Accuracy: 100.0, Test Loss: 9.482672612648457e-05, Test Accuracy: 100.0\n",
            "Epoch 52, Loss: 0.00011040359822800383, Accuracy: 100.0, Test Loss: 0.0001577768853167072, Test Accuracy: 100.0\n",
            "Epoch 53, Loss: 9.307674190495163e-05, Accuracy: 100.0, Test Loss: 0.0001198605023091659, Test Accuracy: 100.0\n",
            "Epoch 54, Loss: 8.958107355283573e-05, Accuracy: 100.0, Test Loss: 0.00011406440171413124, Test Accuracy: 100.0\n",
            "Epoch 55, Loss: 0.00011422575335018337, Accuracy: 100.0, Test Loss: 7.830713002476841e-05, Test Accuracy: 100.0\n",
            "Epoch 56, Loss: 0.00012867763871327043, Accuracy: 100.0, Test Loss: 8.474209607811645e-05, Test Accuracy: 100.0\n",
            "Epoch 57, Loss: 0.0001080783040379174, Accuracy: 100.0, Test Loss: 6.45691980025731e-05, Test Accuracy: 100.0\n",
            "Epoch 58, Loss: 7.822304905857891e-05, Accuracy: 100.0, Test Loss: 7.534863834735006e-05, Test Accuracy: 100.0\n",
            "Epoch 59, Loss: 0.00011700126196956262, Accuracy: 100.0, Test Loss: 8.85066983755678e-05, Test Accuracy: 100.0\n",
            "Epoch 60, Loss: 0.004563631024211645, Accuracy: 99.9000015258789, Test Loss: 0.005471204407513142, Test Accuracy: 99.90234375\n",
            "Epoch 61, Loss: 0.0018493379466235638, Accuracy: 99.98124694824219, Test Loss: 0.0005578200216405094, Test Accuracy: 100.0\n",
            "Epoch 62, Loss: 0.00044110158341936767, Accuracy: 100.0, Test Loss: 0.00034691300243139267, Test Accuracy: 100.0\n",
            "Epoch 63, Loss: 0.00035411686985753477, Accuracy: 100.0, Test Loss: 0.00026205979520455003, Test Accuracy: 100.0\n",
            "Epoch 64, Loss: 0.0003325528814457357, Accuracy: 100.0, Test Loss: 0.0002574521931819618, Test Accuracy: 100.0\n",
            "Epoch 65, Loss: 0.00026925106067210436, Accuracy: 100.0, Test Loss: 0.00015141013136599213, Test Accuracy: 100.0\n",
            "Epoch 66, Loss: 0.00022893666755408049, Accuracy: 100.0, Test Loss: 0.0003504226333461702, Test Accuracy: 100.0\n"
          ]
        },
        {
          "output_type": "error",
          "ename": "KeyboardInterrupt",
          "evalue": "ignored",
          "traceback": [
            "\u001b[0;31m---------------------------------------------------------------------------\u001b[0m",
            "\u001b[0;31mKeyboardInterrupt\u001b[0m                         Traceback (most recent call last)",
            "\u001b[0;32m<ipython-input-47-2d45f5032eeb>\u001b[0m in \u001b[0;36m<module>\u001b[0;34m()\u001b[0m\n\u001b[1;32m      7\u001b[0m       \u001b[0mimages\u001b[0m \u001b[0;34m=\u001b[0m \u001b[0mimage\u001b[0m\u001b[0;34m[\u001b[0m\u001b[0;34m:\u001b[0m\u001b[0;36m2\u001b[0m\u001b[0;34m]\u001b[0m\u001b[0;34m\u001b[0m\u001b[0;34m\u001b[0m\u001b[0m\n\u001b[1;32m      8\u001b[0m       \u001b[0mlabels\u001b[0m \u001b[0;34m=\u001b[0m \u001b[0mimage\u001b[0m\u001b[0;34m[\u001b[0m\u001b[0;36m2\u001b[0m\u001b[0;34m]\u001b[0m\u001b[0;34m\u001b[0m\u001b[0;34m\u001b[0m\u001b[0m\n\u001b[0;32m----> 9\u001b[0;31m       \u001b[0mtrain_step\u001b[0m\u001b[0;34m(\u001b[0m\u001b[0mimages\u001b[0m\u001b[0;34m,\u001b[0m\u001b[0mlabels\u001b[0m\u001b[0;34m)\u001b[0m\u001b[0;34m\u001b[0m\u001b[0;34m\u001b[0m\u001b[0m\n\u001b[0m\u001b[1;32m     10\u001b[0m     \u001b[0;32mwith\u001b[0m \u001b[0mtrain_summary_writer\u001b[0m\u001b[0;34m.\u001b[0m\u001b[0mas_default\u001b[0m\u001b[0;34m(\u001b[0m\u001b[0;34m)\u001b[0m\u001b[0;34m:\u001b[0m\u001b[0;34m\u001b[0m\u001b[0;34m\u001b[0m\u001b[0m\n\u001b[1;32m     11\u001b[0m       \u001b[0mtf\u001b[0m\u001b[0;34m.\u001b[0m\u001b[0msummary\u001b[0m\u001b[0;34m.\u001b[0m\u001b[0mscalar\u001b[0m\u001b[0;34m(\u001b[0m\u001b[0;34m'loss'\u001b[0m\u001b[0;34m,\u001b[0m \u001b[0mtrain_loss\u001b[0m\u001b[0;34m.\u001b[0m\u001b[0mresult\u001b[0m\u001b[0;34m(\u001b[0m\u001b[0;34m)\u001b[0m\u001b[0;34m,\u001b[0m \u001b[0mstep\u001b[0m\u001b[0;34m=\u001b[0m\u001b[0mepoch\u001b[0m\u001b[0;34m)\u001b[0m\u001b[0;34m\u001b[0m\u001b[0;34m\u001b[0m\u001b[0m\n",
            "\u001b[0;32m/usr/local/lib/python3.7/dist-packages/tensorflow/python/util/traceback_utils.py\u001b[0m in \u001b[0;36merror_handler\u001b[0;34m(*args, **kwargs)\u001b[0m\n\u001b[1;32m    148\u001b[0m     \u001b[0mfiltered_tb\u001b[0m \u001b[0;34m=\u001b[0m \u001b[0;32mNone\u001b[0m\u001b[0;34m\u001b[0m\u001b[0;34m\u001b[0m\u001b[0m\n\u001b[1;32m    149\u001b[0m     \u001b[0;32mtry\u001b[0m\u001b[0;34m:\u001b[0m\u001b[0;34m\u001b[0m\u001b[0;34m\u001b[0m\u001b[0m\n\u001b[0;32m--> 150\u001b[0;31m       \u001b[0;32mreturn\u001b[0m \u001b[0mfn\u001b[0m\u001b[0;34m(\u001b[0m\u001b[0;34m*\u001b[0m\u001b[0margs\u001b[0m\u001b[0;34m,\u001b[0m \u001b[0;34m**\u001b[0m\u001b[0mkwargs\u001b[0m\u001b[0;34m)\u001b[0m\u001b[0;34m\u001b[0m\u001b[0;34m\u001b[0m\u001b[0m\n\u001b[0m\u001b[1;32m    151\u001b[0m     \u001b[0;32mexcept\u001b[0m \u001b[0mException\u001b[0m \u001b[0;32mas\u001b[0m \u001b[0me\u001b[0m\u001b[0;34m:\u001b[0m\u001b[0;34m\u001b[0m\u001b[0;34m\u001b[0m\u001b[0m\n\u001b[1;32m    152\u001b[0m       \u001b[0mfiltered_tb\u001b[0m \u001b[0;34m=\u001b[0m \u001b[0m_process_traceback_frames\u001b[0m\u001b[0;34m(\u001b[0m\u001b[0me\u001b[0m\u001b[0;34m.\u001b[0m\u001b[0m__traceback__\u001b[0m\u001b[0;34m)\u001b[0m\u001b[0;34m\u001b[0m\u001b[0;34m\u001b[0m\u001b[0m\n",
            "\u001b[0;32m/usr/local/lib/python3.7/dist-packages/tensorflow/python/eager/def_function.py\u001b[0m in \u001b[0;36m__call__\u001b[0;34m(self, *args, **kwds)\u001b[0m\n\u001b[1;32m    913\u001b[0m \u001b[0;34m\u001b[0m\u001b[0m\n\u001b[1;32m    914\u001b[0m       \u001b[0;32mwith\u001b[0m \u001b[0mOptionalXlaContext\u001b[0m\u001b[0;34m(\u001b[0m\u001b[0mself\u001b[0m\u001b[0;34m.\u001b[0m\u001b[0m_jit_compile\u001b[0m\u001b[0;34m)\u001b[0m\u001b[0;34m:\u001b[0m\u001b[0;34m\u001b[0m\u001b[0;34m\u001b[0m\u001b[0m\n\u001b[0;32m--> 915\u001b[0;31m         \u001b[0mresult\u001b[0m \u001b[0;34m=\u001b[0m \u001b[0mself\u001b[0m\u001b[0;34m.\u001b[0m\u001b[0m_call\u001b[0m\u001b[0;34m(\u001b[0m\u001b[0;34m*\u001b[0m\u001b[0margs\u001b[0m\u001b[0;34m,\u001b[0m \u001b[0;34m**\u001b[0m\u001b[0mkwds\u001b[0m\u001b[0;34m)\u001b[0m\u001b[0;34m\u001b[0m\u001b[0;34m\u001b[0m\u001b[0m\n\u001b[0m\u001b[1;32m    916\u001b[0m \u001b[0;34m\u001b[0m\u001b[0m\n\u001b[1;32m    917\u001b[0m       \u001b[0mnew_tracing_count\u001b[0m \u001b[0;34m=\u001b[0m \u001b[0mself\u001b[0m\u001b[0;34m.\u001b[0m\u001b[0mexperimental_get_tracing_count\u001b[0m\u001b[0;34m(\u001b[0m\u001b[0;34m)\u001b[0m\u001b[0;34m\u001b[0m\u001b[0;34m\u001b[0m\u001b[0m\n",
            "\u001b[0;32m/usr/local/lib/python3.7/dist-packages/tensorflow/python/eager/def_function.py\u001b[0m in \u001b[0;36m_call\u001b[0;34m(self, *args, **kwds)\u001b[0m\n\u001b[1;32m    945\u001b[0m       \u001b[0;31m# In this case we have created variables on the first call, so we run the\u001b[0m\u001b[0;34m\u001b[0m\u001b[0;34m\u001b[0m\u001b[0;34m\u001b[0m\u001b[0m\n\u001b[1;32m    946\u001b[0m       \u001b[0;31m# defunned version which is guaranteed to never create variables.\u001b[0m\u001b[0;34m\u001b[0m\u001b[0;34m\u001b[0m\u001b[0;34m\u001b[0m\u001b[0m\n\u001b[0;32m--> 947\u001b[0;31m       \u001b[0;32mreturn\u001b[0m \u001b[0mself\u001b[0m\u001b[0;34m.\u001b[0m\u001b[0m_stateless_fn\u001b[0m\u001b[0;34m(\u001b[0m\u001b[0;34m*\u001b[0m\u001b[0margs\u001b[0m\u001b[0;34m,\u001b[0m \u001b[0;34m**\u001b[0m\u001b[0mkwds\u001b[0m\u001b[0;34m)\u001b[0m  \u001b[0;31m# pylint: disable=not-callable\u001b[0m\u001b[0;34m\u001b[0m\u001b[0;34m\u001b[0m\u001b[0m\n\u001b[0m\u001b[1;32m    948\u001b[0m     \u001b[0;32melif\u001b[0m \u001b[0mself\u001b[0m\u001b[0;34m.\u001b[0m\u001b[0m_stateful_fn\u001b[0m \u001b[0;32mis\u001b[0m \u001b[0;32mnot\u001b[0m \u001b[0;32mNone\u001b[0m\u001b[0;34m:\u001b[0m\u001b[0;34m\u001b[0m\u001b[0;34m\u001b[0m\u001b[0m\n\u001b[1;32m    949\u001b[0m       \u001b[0;31m# Release the lock early so that multiple threads can perform the call\u001b[0m\u001b[0;34m\u001b[0m\u001b[0;34m\u001b[0m\u001b[0;34m\u001b[0m\u001b[0m\n",
            "\u001b[0;32m/usr/local/lib/python3.7/dist-packages/tensorflow/python/eager/function.py\u001b[0m in \u001b[0;36m__call__\u001b[0;34m(self, *args, **kwargs)\u001b[0m\n\u001b[1;32m   2955\u001b[0m        filtered_flat_args) = self._maybe_define_function(args, kwargs)\n\u001b[1;32m   2956\u001b[0m     return graph_function._call_flat(\n\u001b[0;32m-> 2957\u001b[0;31m         filtered_flat_args, captured_inputs=graph_function.captured_inputs)  # pylint: disable=protected-access\n\u001b[0m\u001b[1;32m   2958\u001b[0m \u001b[0;34m\u001b[0m\u001b[0m\n\u001b[1;32m   2959\u001b[0m   \u001b[0;34m@\u001b[0m\u001b[0mproperty\u001b[0m\u001b[0;34m\u001b[0m\u001b[0;34m\u001b[0m\u001b[0m\n",
            "\u001b[0;32m/usr/local/lib/python3.7/dist-packages/tensorflow/python/eager/function.py\u001b[0m in \u001b[0;36m_call_flat\u001b[0;34m(self, args, captured_inputs, cancellation_manager)\u001b[0m\n\u001b[1;32m   1852\u001b[0m       \u001b[0;31m# No tape is watching; skip to running the function.\u001b[0m\u001b[0;34m\u001b[0m\u001b[0;34m\u001b[0m\u001b[0;34m\u001b[0m\u001b[0m\n\u001b[1;32m   1853\u001b[0m       return self._build_call_outputs(self._inference_function.call(\n\u001b[0;32m-> 1854\u001b[0;31m           ctx, args, cancellation_manager=cancellation_manager))\n\u001b[0m\u001b[1;32m   1855\u001b[0m     forward_backward = self._select_forward_and_backward_functions(\n\u001b[1;32m   1856\u001b[0m         \u001b[0margs\u001b[0m\u001b[0;34m,\u001b[0m\u001b[0;34m\u001b[0m\u001b[0;34m\u001b[0m\u001b[0m\n",
            "\u001b[0;32m/usr/local/lib/python3.7/dist-packages/tensorflow/python/eager/function.py\u001b[0m in \u001b[0;36mcall\u001b[0;34m(self, ctx, args, cancellation_manager)\u001b[0m\n\u001b[1;32m    502\u001b[0m               \u001b[0minputs\u001b[0m\u001b[0;34m=\u001b[0m\u001b[0margs\u001b[0m\u001b[0;34m,\u001b[0m\u001b[0;34m\u001b[0m\u001b[0;34m\u001b[0m\u001b[0m\n\u001b[1;32m    503\u001b[0m               \u001b[0mattrs\u001b[0m\u001b[0;34m=\u001b[0m\u001b[0mattrs\u001b[0m\u001b[0;34m,\u001b[0m\u001b[0;34m\u001b[0m\u001b[0;34m\u001b[0m\u001b[0m\n\u001b[0;32m--> 504\u001b[0;31m               ctx=ctx)\n\u001b[0m\u001b[1;32m    505\u001b[0m         \u001b[0;32melse\u001b[0m\u001b[0;34m:\u001b[0m\u001b[0;34m\u001b[0m\u001b[0;34m\u001b[0m\u001b[0m\n\u001b[1;32m    506\u001b[0m           outputs = execute.execute_with_cancellation(\n",
            "\u001b[0;32m/usr/local/lib/python3.7/dist-packages/tensorflow/python/eager/execute.py\u001b[0m in \u001b[0;36mquick_execute\u001b[0;34m(op_name, num_outputs, inputs, attrs, ctx, name)\u001b[0m\n\u001b[1;32m     53\u001b[0m     \u001b[0mctx\u001b[0m\u001b[0;34m.\u001b[0m\u001b[0mensure_initialized\u001b[0m\u001b[0;34m(\u001b[0m\u001b[0;34m)\u001b[0m\u001b[0;34m\u001b[0m\u001b[0;34m\u001b[0m\u001b[0m\n\u001b[1;32m     54\u001b[0m     tensors = pywrap_tfe.TFE_Py_Execute(ctx._handle, device_name, op_name,\n\u001b[0;32m---> 55\u001b[0;31m                                         inputs, attrs, num_outputs)\n\u001b[0m\u001b[1;32m     56\u001b[0m   \u001b[0;32mexcept\u001b[0m \u001b[0mcore\u001b[0m\u001b[0;34m.\u001b[0m\u001b[0m_NotOkStatusException\u001b[0m \u001b[0;32mas\u001b[0m \u001b[0me\u001b[0m\u001b[0;34m:\u001b[0m\u001b[0;34m\u001b[0m\u001b[0;34m\u001b[0m\u001b[0m\n\u001b[1;32m     57\u001b[0m     \u001b[0;32mif\u001b[0m \u001b[0mname\u001b[0m \u001b[0;32mis\u001b[0m \u001b[0;32mnot\u001b[0m \u001b[0;32mNone\u001b[0m\u001b[0;34m:\u001b[0m\u001b[0;34m\u001b[0m\u001b[0;34m\u001b[0m\u001b[0m\n",
            "\u001b[0;31mKeyboardInterrupt\u001b[0m: "
          ]
        }
      ],
      "source": [
        "EPOCHS = 100\n",
        "\n",
        "for epoch in range(EPOCHS):\n",
        "  # Reset the metrics at the start of the next epoch\n",
        "  with tf.device(device_name=device):\n",
        "    for idx,image in enumerate(train_data):\n",
        "      images = image[:2]\n",
        "      labels = image[2]    \n",
        "      train_step(images,labels)\n",
        "    with train_summary_writer.as_default():\n",
        "      tf.summary.scalar('loss', train_loss.result(), step=epoch)\n",
        "      tf.summary.scalar('accuracy', train_accuracy.result(), step=epoch)\n",
        "  with tf.device(device_name=device):\n",
        "    for idx,timage in enumerate(valid_data):\n",
        "      test_images = timage[:2]\n",
        "      test_labels = timage[2]\n",
        "      test_step(test_images, test_labels)\n",
        "    with test_summary_writer.as_default():\n",
        "      tf.summary.scalar('loss', test_loss.result(), step=epoch)\n",
        "      tf.summary.scalar('accuracy', test_accuracy.result(), step=epoch)\n",
        "    template = 'Epoch {}, Loss: {}, Accuracy: {}, Test Loss: {}, Test Accuracy: {}'\n",
        "    print (template.format(epoch+1,\n",
        "                         train_loss.result(), \n",
        "                         train_accuracy.result()*100,\n",
        "                         test_loss.result(), \n",
        "                         test_accuracy.result()*100))\n",
        "\n",
        "    # Reset metrics every epoch\n",
        "    train_loss.reset_states()\n",
        "    test_loss.reset_states()\n",
        "    train_accuracy.reset_states()\n",
        "    test_accuracy.reset_states()\n",
        "  if epoch % 10 == 0: \n",
        "    checkpoint.save(file_prefix=checkpoint_prefix)"
      ]
    },
    {
      "cell_type": "code",
      "execution_count": null,
      "metadata": {
        "id": "Og_iGsZGlggG"
      },
      "outputs": [],
      "source": [
        "  %load_ext tensorboard\n",
        "%tensorboard --logdir /content/drive/MyDrive/logs/gradient_tape"
      ]
    },
    {
      "cell_type": "markdown",
      "metadata": {
        "id": "jdEEA0DaUq3e"
      },
      "source": [
        "# 6.Evalue Model"
      ]
    },
    {
      "cell_type": "code",
      "execution_count": null,
      "metadata": {
        "id": "a2lo5kphDP7P"
      },
      "outputs": [],
      "source": [
        "test_input,test_val,y_true = test_data.as_numpy_iterator().next()\n",
        "print(y_true.reshape(1,-1))"
      ]
    },
    {
      "cell_type": "code",
      "execution_count": null,
      "metadata": {
        "id": "H4BWBtU4vTHd"
      },
      "outputs": [],
      "source": [
        "y_hat = model.predict([test_input, test_val])\n",
        "y_hat.shape"
      ]
    },
    {
      "cell_type": "code",
      "execution_count": null,
      "metadata": {
        "id": "el1_1qG9vhMN"
      },
      "outputs": [],
      "source": [
        "# Post processing the results \n",
        "a = np.array([1 if prediction > 0.5 else 0 for prediction in y_hat ],dtype=np.float32).reshape(1,-1)\n",
        "print(a)"
      ]
    },
    {
      "cell_type": "code",
      "execution_count": null,
      "metadata": {
        "id": "Z8Zfqp1oiFY1"
      },
      "outputs": [],
      "source": [
        "# def test(data):\n",
        "#   r = Recall()\n",
        "#   p = Precision()\n",
        "#   for test_input, test_val, y_true in test_data.as_numpy_iterator():\n",
        "#     yhat = model.predict([test_input, test_val])\n",
        "#     r.update_state(y_true, yhat)\n",
        "#     p.update_state(y_true,yhat)\n",
        "#   print(r.result().numpy(), p.result().numpy())\n",
        "# test(test_data)"
      ]
    },
    {
      "cell_type": "code",
      "execution_count": null,
      "metadata": {
        "id": "cSxA_xnZWoEt"
      },
      "outputs": [],
      "source": [
        "# # Set plot size \n",
        "\n",
        "# plt.figure(figsize=(10,8))\n",
        "\n",
        "# # Set first subplot\n",
        "# plt.subplot(1,2,1)\n",
        "# plt.imshow(test_input[0])\n",
        "\n",
        "# # Set second subplot\n",
        "# plt.subplot(1,2,2)\n",
        "# plt.imshow(test_val[1])\n",
        "\n",
        "# # Renders cleanly\n",
        "# plt.show()"
      ]
    },
    {
      "cell_type": "markdown",
      "metadata": {
        "id": "WxPDF2bVXUr6"
      },
      "source": [
        "#7. Save Model"
      ]
    },
    {
      "cell_type": "code",
      "execution_count": null,
      "metadata": {
        "id": "4iJuvjxMXWzX"
      },
      "outputs": [],
      "source": [
        "# Save weights\n",
        "model.save('siamesemodelv2.h5')"
      ]
    },
    {
      "cell_type": "code",
      "execution_count": null,
      "metadata": {
        "id": "1wjxSkA4XYNH"
      },
      "outputs": [],
      "source": [
        "   import tensorflow as tf\n",
        "siamese_model = tf.keras.models.load_model('/content/drive/MyDrive/siamesemodelv2', \n",
        "                                   custom_objects={'L1Dist':euclidean_distance, 'BinaryCrossentropy':tf.losses.BinaryCrossentropy})"
      ]
    },
    {
      "cell_type": "code",
      "execution_count": null,
      "metadata": {
        "id": "_PJVAW4awMcw"
      },
      "outputs": [],
      "source": [
        "siamese_model.summary()"
      ]
    },
    {
      "cell_type": "code",
      "execution_count": null,
      "metadata": {
        "id": "ZUF48cNO3dni"
      },
      "outputs": [],
      "source": [
        "from IPython.display import display, Javascript,HTML\n",
        "from google.colab.output import eval_js\n",
        "from base64 import b64decode\n",
        "\n",
        "def record_video(filename):\n",
        "  js=Javascript(\"\"\"\n",
        "    async function recordVideo() {\n",
        "      const options = { mimeType: \"video/webm; codecs=vp9\" };\n",
        "      const div = document.createElement('div');\n",
        "      const capture = document.createElement('button');\n",
        "      const stopCapture = document.createElement(\"button\");\n",
        "      \n",
        "      capture.textContent = \"Start Recording\";\n",
        "      capture.style.background = \"orange\";\n",
        "      capture.style.color = \"white\";\n",
        "\n",
        "      stopCapture.textContent = \"Stop Recording\";\n",
        "      stopCapture.style.background = \"red\";\n",
        "      stopCapture.style.color = \"white\";\n",
        "      div.appendChild(capture);\n",
        "\n",
        "      const video = document.createElement('video');\n",
        "      const recordingVid = document.createElement(\"video\");\n",
        "      video.style.display = 'block';\n",
        "\n",
        "      const stream = await navigator.mediaDevices.getUserMedia({audio:true, video: true});\n",
        "    \n",
        "      let recorder = new MediaRecorder(stream, options);\n",
        "      document.body.appendChild(div);\n",
        "      div.appendChild(video);\n",
        "\n",
        "      video.srcObject = stream;\n",
        "      video.muted = true;\n",
        "\n",
        "      await video.play();\n",
        "\n",
        "      google.colab.output.setIframeHeight(document.documentElement.scrollHeight, true);\n",
        "\n",
        "      await new Promise((resolve) => {\n",
        "        capture.onclick = resolve;\n",
        "      });\n",
        "      recorder.start();\n",
        "      capture.replaceWith(stopCapture);\n",
        "\n",
        "      await new Promise((resolve) => stopCapture.onclick = resolve);\n",
        "      recorder.stop();\n",
        "      let recData = await new Promise((resolve) => recorder.ondataavailable = resolve);\n",
        "      let arrBuff = await recData.data.arrayBuffer();\n",
        "      \n",
        "      // stop the stream and remove the video element\n",
        "      stream.getVideoTracks()[0].stop();\n",
        "      div.remove();\n",
        "\n",
        "      let binaryString = \"\";\n",
        "      let bytes = new Uint8Array(arrBuff);\n",
        "      bytes.forEach((byte) => {\n",
        "        binaryString += String.fromCharCode(byte);\n",
        "      })\n",
        "    return btoa(binaryString);\n",
        "    }\n",
        "  \"\"\")\n",
        "  try:\n",
        "    display(js)\n",
        "    data=eval_js('recordVideo({})')\n",
        "    binary=b64decode(data)\n",
        "    with open(filename,\"wb\") as video_file:\n",
        "      video_file.write(binary)\n",
        "    print(f\"Finished recording video at:{filename}\")\n",
        "  except Exception as err:\n",
        "    print(str(err))"
      ]
    },
    {
      "cell_type": "code",
      "execution_count": null,
      "metadata": {
        "id": "vHTUJPfL3dry"
      },
      "outputs": [],
      "source": [
        "video_path = \"test.mp4\"\n",
        "record_video(video_path)"
      ]
    },
    {
      "cell_type": "code",
      "execution_count": null,
      "metadata": {
        "id": "Ee16UIi1sfk4"
      },
      "outputs": [],
      "source": [
        ""
      ]
    },
    {
      "cell_type": "code",
      "execution_count": null,
      "metadata": {
        "id": "BY5ktVOklVpS"
      },
      "outputs": [],
      "source": [
        "# !pip install mediapipe"
      ]
    },
    {
      "cell_type": "code",
      "execution_count": null,
      "metadata": {
        "id": "SnQPMt1u-Dvy"
      },
      "outputs": [],
      "source": [
        "import cv2\n",
        "import mediapipe as mp\n",
        "\n",
        "class FaceDetector:\n",
        "    \"\"\"\n",
        "    Find faces in realtime using the light weight model provided in the mediapipe\n",
        "    library.\n",
        "    \"\"\"\n",
        "\n",
        "    def __init__(self, minDetectionCon=0.5):\n",
        "        \"\"\"\n",
        "        :param minDetectionCon: Minimum Detection Confidence Threshold\n",
        "        \"\"\"\n",
        "\n",
        "        self.minDetectionCon = minDetectionCon\n",
        "        self.mpFaceDetection = mp.solutions.face_detection\n",
        "        self.mpDraw = mp.solutions.drawing_utils\n",
        "        self.faceDetection = self.mpFaceDetection.FaceDetection(self.minDetectionCon)\n",
        "\n",
        "    def findFaces(self, img, draw=True):\n",
        "        \"\"\"\n",
        "        Find faces in an image and return the bbox info\n",
        "        :param img: Image to find the faces in.\n",
        "        :param draw: Flag to draw the output on the image.\n",
        "        :return: Image with or without drawings.\n",
        "                 Bounding Box list.\n",
        "        \"\"\"\n",
        "\n",
        "        imgRGB = cv2.cvtColor(img, cv2.COLOR_BGR2RGB)\n",
        "        self.results = self.faceDetection.process(imgRGB)\n",
        "        bboxs = []\n",
        "        if self.results.detections:\n",
        "            for id, detection in enumerate(self.results.detections):\n",
        "                bboxC = detection.location_data.relative_bounding_box\n",
        "                ih, iw, ic = img.shape\n",
        "                bbox = int(bboxC.xmin * iw), int(bboxC.ymin * ih), \\\n",
        "                       int(bboxC.width * iw), int(bboxC.height * ih)\n",
        "                cx, cy = bbox[0] + (bbox[2] // 2),bbox[1] + (bbox[3] // 2)\n",
        "                bboxInfo = {\"id\": id, \"bbox\": bbox, \"score\": detection.score, \"center\": (cx, cy)}\n",
        "                bboxs.append(bboxInfo)\n",
        "                if draw:\n",
        "                    img = cv2.rectangle(img, bbox, (255, 0, 255), 2)\n",
        "\n",
        "                    cv2.putText(img, f'{int(detection.score[0] * 100)}%',\n",
        "                                (bbox[0], bbox[1] - 20), cv2.FONT_HERSHEY_PLAIN,\n",
        "                                2, (255, 0, 255), 2)\n",
        "        return img, bboxs"
      ]
    },
    {
      "cell_type": "code",
      "execution_count": null,
      "metadata": {
        "id": "QeSesfBkquUh"
      },
      "outputs": [],
      "source": [
        "detector = FaceDetector()\n",
        "# fourcc = cv2.VideoWriter_fourcc('M','J','P','G')\n",
        "# box = cv2.VideoWriter(f'outs.mp4', fourcc, 20, (480,640),True)\n",
        "cap = cv2.VideoCapture('/content/test.mp4')\n",
        "idx = 0\n",
        "import os\n",
        "from google.colab.patches import cv2_imshow\n",
        "while cap.isOpened(): \n",
        "    ret, frame = cap.read()\n",
        "    if ret == False:\n",
        "            # box.release()\n",
        "        break\n",
        "    img, bboxs = detector.findFaces(frame,draw=True)\n",
        "    print(img.shape)\n",
        "    cv2_imshow(img)\n",
        "    print(bboxs)"
      ]
    },
    {
      "cell_type": "code",
      "execution_count": null,
      "metadata": {
        "id": "jsulO9S6wOjD"
      },
      "outputs": [],
      "source": [
        "def verify(model, detection_threshold, verification_threshold):\n",
        "    # Build results array\n",
        "    results = []\n",
        "    for image in os.listdir(os.path.join('drive/MyDrive/application_data', 'verification_images')):\n",
        "        input_img = proprocess(os.path.join('drive/MyDrive/application_data', 'input_image', 'input_image.jpg'))\n",
        "        validation_img = proprocess(os.path.join('drive/MyDrive/application_data', 'verification_images', image))\n",
        "        \n",
        "        # Make Predictions \n",
        "        result = model.predict(list(np.expand_dims([input_img, validation_img], axis=1)))\n",
        "        results.append(result)\n",
        "    \n",
        "    # Detection Threshold: Metric above which a prediciton is considered positive \n",
        "    detection = np.sum(np.array(results) > detection_threshold)\n",
        "    \n",
        "    # Verification Threshold: Proportion of positive predictions / total positive samples \n",
        "    verification = detection / len(os.listdir(os.path.join('drive/MyDrive/application_data', 'verification_images'))) \n",
        "    verified = verification > verification_threshold\n",
        "    \n",
        "    return results, verified"
      ]
    },
    {
      "cell_type": "code",
      "execution_count": null,
      "metadata": {
        "id": "gc3H1y2Q9PSy"
      },
      "outputs": [],
      "source": [
        "video_path = '/content/Tesla CEO Elon Musk alleges persecution by SEC, moves court _ World Latest English News _ WION (online-video-cutter.com).mp4'\n",
        "detector = FaceDetector()\n",
        "fourcc = cv2.VideoWriter_fourcc('M','J','P','G')\n",
        "box = cv2.VideoWriter(f'outsl.mp4', fourcc, 20, (480,640),True)\n",
        "cap = cv2.VideoCapture(video_path)\n",
        "idx = 0\n",
        "import os\n",
        "from google.colab.patches import cv2_imshow\n",
        "while cap.isOpened(): \n",
        "    ret, frame = cap.read()\n",
        "    if ret == False:\n",
        "            box.release()\n",
        "            break\n",
        "    img, bboxs = detector.findFaces(frame,draw=False)\n",
        "\n",
        "    print(bboxs)\n",
        "    \n",
        "    \n",
        "    xmin = bboxs[0]['bbox'][0]\n",
        "    ymin = bboxs[0]['bbox'][1]\n",
        "    weight= bboxs[0]['bbox'][2]\n",
        "    height = bboxs[0]['bbox'][3]\n",
        "\n",
        "    f = cv2.resize(img[xmin:xmin+weight,ymin:ymin+height,:],(250,250))\n",
        "\n",
        "    cv2.imwrite(os.path.join('drive/MyDrive/application_data', 'input_image', 'input_image.jpg'),f)\n",
        "    # Run verification\n",
        "    results, verified = verify(siamese_model, 0.5, 0.8)\n",
        "    print(verified)\n",
        "\n",
        "    \n",
        "    if verified == True:\n",
        "      draw_imgs,_ = detector.findFaces(frame,draw=True)\n",
        "      cv2.putText(draw_imgs, f'Verification :',\n",
        "                                (ymin, ymin - 50), cv2.FONT_HERSHEY_SIMPLEX,\n",
        "                                1, (0,192,0), 1)\n",
        "      idx+=1\n",
        "      cv2_imshow(draw_imgs)\n",
        "      box.write(draw_imgs)\n",
        "    else:\n",
        "      draw_imgs,_ = detector.findFaces(frame,draw=True)\n",
        "      cv2.putText(draw_imgs, f'Verification not:',\n",
        "                                (ymin, ymin - 50), cv2.FONT_HERSHEY_SIMPLEX,\n",
        "                                1, (255,0,0), 1)\n",
        "      idx+=1\n",
        "      cv2_imshow(draw_imgs)\n",
        "      box.write(draw_imgs)\n",
        "    if cv2.waitKey(1)== ord('q'):\n",
        "        break\n",
        "cv2.waitKey(0)   \n",
        "cap.release()\n",
        "cv2.destroyAllWindows()"
      ]
    },
    {
      "cell_type": "code",
      "execution_count": null,
      "metadata": {
        "id": "XreyToNCPb_i"
      },
      "outputs": [],
      "source": [
        "print(results)"
      ]
    }
  ],
  "metadata": {
    "accelerator": "GPU",
    "colab": {
      "collapsed_sections": [],
      "name": "Bản sao của Nhandien_(1).ipynb",
      "provenance": []
    },
    "kernelspec": {
      "display_name": "Python 3 (ipykernel)",
      "language": "python",
      "name": "python3"
    },
    "language_info": {
      "codemirror_mode": {
        "name": "ipython",
        "version": 3
      },
      "file_extension": ".py",
      "mimetype": "text/x-python",
      "name": "python",
      "nbconvert_exporter": "python",
      "pygments_lexer": "ipython3",
      "version": "3.9.7"
    }
  },
  "nbformat": 4,
  "nbformat_minor": 0
}